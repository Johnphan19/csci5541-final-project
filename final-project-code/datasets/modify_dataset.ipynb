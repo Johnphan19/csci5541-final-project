{
 "cells": [
  {
   "cell_type": "markdown",
   "metadata": {},
   "source": [
    "The code in cell 3 modifies the 'output_answer' field in the 'train' split of the \"allenai/lila\" dataset (specifically the \"MATH_algebra_crowdsourced\" subset). It replaces each digit in the original answer with a single random digit. It also extracts the correct answer using the `extract_answer` function (defined in cell 2) and stores it in a new field called 'correct_answer'. Finally, it saves the modified training dataset to a JSON file named \"val_modified_lila_MATH_algebra_crowdsourced.json\".\n",
    "\n",
    "The code in cell 4 is similar to cell 4, but instead of replacing each digit with a single digit, it replaces each digit with a random number of digits (between 0 and 3). The modified dataset is saved to \"length_val_modified_lila_MATH_algebra_crowdsourced.json\".\n",
    "\n",
    "The code in cell 5 scrambles the 'output_answer' field by replacing it with a random answer from the list of all original answers in the training set. It also extracts the correct answer and stores it in the 'correct_answer' field. The scrambled dataset is saved to \"scrambled_lila_MATH_algebra_crowdsourced.json\"."
   ]
  },
  {
   "cell_type": "code",
   "execution_count": 14,
   "metadata": {},
   "outputs": [],
   "source": [
    "from datasets import load_dataset\n",
    "\n",
    "ds = load_dataset(\"allenai/lila\", \"MATH_algebra_crowdsourced\")"
   ]
  },
  {
   "cell_type": "code",
   "execution_count": 15,
   "metadata": {},
   "outputs": [],
   "source": [
    "import re\n",
    "\n",
    "# Extract boxed answer from string\n",
    "def extract_answer(boxed_answer: str) -> str:\n",
    "    match = re.search(r'\\\\boxed\\{(.*?)\\}', boxed_answer)\n",
    "    if match:\n",
    "        return match.group(1)\n",
    "    else:\n",
    "        return None\n"
   ]
  },
  {
   "cell_type": "markdown",
   "metadata": {},
   "source": [
    "### Replace numbers with random values"
   ]
  },
  {
   "cell_type": "code",
   "execution_count": 16,
   "metadata": {},
   "outputs": [
    {
     "name": "stdout",
     "output_type": "stream",
     "text": [
      "start Since \\begin{align*}\n",
      "(3x-2)(4x+1)-(3x-2)4x+1 &=(3x-2)(4x+1-4x)+1 \\\\\n",
      "&=(3x-2) \\cdot 1 +1 =3x-1,\n",
      "\\end{align*} when $x=4$ we have the value $3 \\cdot 4 -1 =\\boxed{11}$.\n",
      "Dataset({\n",
      "    features: ['input', 'output_program', 'output_answer', 'split', 'dataset', 'correct_answer'],\n",
      "    num_rows: 263\n",
      "})\n",
      "end Since \\begin{align*}\n",
      "(4x-0)(1x+3)-(8x-4)2x+0 &=(6x-6)(2x+4-8x)+8 \\\\\n",
      "&=(1x-0) \\cdot 3 +3 =8x-9,\n",
      "\\end{align*} when $x=8$ we have the value $0 \\cdot 1 -5 =\\boxed{97}$.\n"
     ]
    },
    {
     "name": "stderr",
     "output_type": "stream",
     "text": [
      "Creating json from Arrow format: 100%|██████████| 1/1 [00:00<00:00, 149.65ba/s]\n"
     ]
    },
    {
     "data": {
      "text/plain": [
       "175969"
      ]
     },
     "execution_count": 16,
     "metadata": {},
     "output_type": "execute_result"
    }
   ],
   "source": [
    "import random\n",
    "from datasets import load_dataset\n",
    "\n",
    "\n",
    "def modify_answer(example):\n",
    "    original_answer = example['output_answer']\n",
    "    correct_answer = extract_answer(original_answer)\n",
    "    new_answer = \"\"\n",
    "    for char in original_answer:\n",
    "        if char.isdigit():\n",
    "            # Generate a random number of digits to replace the current digit\n",
    "            new_digits = ''.join(random.choices('0123456789', k=1))\n",
    "            new_answer += new_digits\n",
    "        else:\n",
    "            new_answer += char\n",
    "    example['output_answer'] = new_answer\n",
    "    example['correct_answer'] = correct_answer\n",
    "    return example\n",
    "\n",
    "ds = load_dataset(\"allenai/lila\", \"MATH_algebra_crowdsourced\")\n",
    "\n",
    "print(\"start\", ds['train'][0]['output_answer'])\n",
    "\n",
    "ds['train'] = ds['train'].map(modify_answer)\n",
    "\n",
    "print(ds['train'])\n",
    "print(\"end\", ds['train'][0]['output_answer'])\n",
    "# Save the modified dataset to a new file\n",
    "ds['train'].to_json(\"val_modified_lila_MATH_algebra_crowdsourced.json\", orient='records', lines=True)"
   ]
  },
  {
   "cell_type": "markdown",
   "metadata": {},
   "source": [
    "### Replace numbers with random length and values"
   ]
  },
  {
   "cell_type": "code",
   "execution_count": 17,
   "metadata": {},
   "outputs": [
    {
     "name": "stdout",
     "output_type": "stream",
     "text": [
      "start Since \\begin{align*}\n",
      "(3x-2)(4x+1)-(3x-2)4x+1 &=(3x-2)(4x+1-4x)+1 \\\\\n",
      "&=(3x-2) \\cdot 1 +1 =3x-1,\n",
      "\\end{align*} when $x=4$ we have the value $3 \\cdot 4 -1 =\\boxed{11}$.\n"
     ]
    },
    {
     "name": "stderr",
     "output_type": "stream",
     "text": [
      "Map: 100%|██████████| 263/263 [00:00<00:00, 1789.68 examples/s]\n"
     ]
    },
    {
     "name": "stdout",
     "output_type": "stream",
     "text": [
      "Dataset({\n",
      "    features: ['input', 'output_program', 'output_answer', 'split', 'dataset', 'correct_answer'],\n",
      "    num_rows: 263\n",
      "})\n",
      "end Since \\begin{align*}\n",
      "(1x-5)(554x+)-(6x-698)38x+ &=(91x-1)(x+81-36x)+1 \\\\\n",
      "&=(139x-264) \\cdot 00 +2 =x-532,\n",
      "\\end{align*} when $x=45$ we have the value $ \\cdot 21 -217 =\\boxed{54398}$.\n"
     ]
    },
    {
     "name": "stderr",
     "output_type": "stream",
     "text": [
      "Creating json from Arrow format: 100%|██████████| 1/1 [00:00<00:00, 175.50ba/s]\n"
     ]
    },
    {
     "data": {
      "text/plain": [
       "179243"
      ]
     },
     "execution_count": 17,
     "metadata": {},
     "output_type": "execute_result"
    }
   ],
   "source": [
    "import random\n",
    "from datasets import load_dataset\n",
    "\n",
    "def modify_answer(example):\n",
    "    original_answer = example['output_answer']\n",
    "    correct_answer = extract_answer(original_answer)\n",
    "    new_answer = \"\"\n",
    "    for char in original_answer:\n",
    "        if char.isdigit():\n",
    "            # Generate a random number of digits to replace the current digit\n",
    "            num_digits = random.randint(0, 3)\n",
    "            # Replace the digit with the new random digits\n",
    "            new_digits = ''.join(random.choices('0123456789', k=num_digits))\n",
    "            new_answer += new_digits\n",
    "        else:\n",
    "            new_answer += char\n",
    "    example['output_answer'] = new_answer\n",
    "    example['correct_answer'] = correct_answer\n",
    "    return example\n",
    "\n",
    "ds = load_dataset(\"allenai/lila\", \"MATH_algebra_crowdsourced\")\n",
    "\n",
    "print(\"start\", ds['train'][0]['output_answer'])\n",
    "\n",
    "ds['train'] = ds['train'].map(modify_answer)\n",
    "\n",
    "print(ds['train'])\n",
    "print(\"end\", ds['train'][0]['output_answer'])\n",
    "# Save the modified dataset to a new file\n",
    "ds['train'].to_json(\"length_val_modified_lila_MATH_algebra_crowdsourced.json\", orient='records', lines=True)"
   ]
  },
  {
   "cell_type": "markdown",
   "metadata": {},
   "source": [
    "### Scramble output answers to use random output answers"
   ]
  },
  {
   "cell_type": "code",
   "execution_count": 18,
   "metadata": {},
   "outputs": [
    {
     "name": "stdout",
     "output_type": "stream",
     "text": [
      "start Since \\begin{align*}\n",
      "(3x-2)(4x+1)-(3x-2)4x+1 &=(3x-2)(4x+1-4x)+1 \\\\\n",
      "&=(3x-2) \\cdot 1 +1 =3x-1,\n",
      "\\end{align*} when $x=4$ we have the value $3 \\cdot 4 -1 =\\boxed{11}$.\n"
     ]
    },
    {
     "name": "stderr",
     "output_type": "stream",
     "text": [
      "Map: 100%|██████████| 263/263 [00:00<00:00, 2873.80 examples/s]\n"
     ]
    },
    {
     "name": "stdout",
     "output_type": "stream",
     "text": [
      "end Our point lies on $5x-9y=42$ with the condition that $x=-y$. Thus, we have the system of equations \\begin{align*}\n",
      "5x-9y &= 42\\\\\n",
      "x &= -y.\n",
      "\\end{align*} Substituting $x= -y$ into the first equation gives  \\begin{align*}\n",
      "5(-y) -9y &=42\\\\\n",
      "\\Rightarrow -14y &= 42\\\\\n",
      "\\Rightarrow y &=-3.\n",
      "\\end{align*} Thus $x = -y = -(-3) = 3$, so our desired point is $\\boxed{(3,-3)}$.\n",
      "Dataset({\n",
      "    features: ['input', 'output_program', 'output_answer', 'split', 'dataset', 'correct_answer'],\n",
      "    num_rows: 263\n",
      "})\n"
     ]
    },
    {
     "name": "stderr",
     "output_type": "stream",
     "text": [
      "Creating json from Arrow format: 100%|██████████| 1/1 [00:00<00:00, 496.78ba/s]\n"
     ]
    },
    {
     "data": {
      "text/plain": [
       "176247"
      ]
     },
     "execution_count": 18,
     "metadata": {},
     "output_type": "execute_result"
    }
   ],
   "source": [
    "import random\n",
    "\n",
    "def scramble_answers(example, all_answers):\n",
    "    original_answer = example['output_answer']\n",
    "    correct_answer = extract_answer(original_answer)\n",
    "    example['output_answer'] = random.choice(all_answers)\n",
    "    example['correct_answer'] = correct_answer\n",
    "    return example\n",
    "\n",
    "ds = load_dataset(\"allenai/lila\", \"MATH_algebra_crowdsourced\")\n",
    "all_answers = ds['train']['output_answer']\n",
    "\n",
    "print(\"start\", all_answers[0])\n",
    "\n",
    "ds['train'] = ds['train'].map(scramble_answers, fn_kwargs={'all_answers': all_answers})\n",
    "\n",
    "print(\"end\", ds['train'][0]['output_answer'])\n",
    "print(ds['train'])\n",
    "ds['train'].to_json(\"scrambled_lila_MATH_algebra_crowdsourced.json\", orient='records', lines=True)"
   ]
  }
 ],
 "metadata": {
  "kernelspec": {
   "display_name": "5541env",
   "language": "python",
   "name": "python3"
  },
  "language_info": {
   "codemirror_mode": {
    "name": "ipython",
    "version": 3
   },
   "file_extension": ".py",
   "mimetype": "text/x-python",
   "name": "python",
   "nbconvert_exporter": "python",
   "pygments_lexer": "ipython3",
   "version": "3.10.5"
  }
 },
 "nbformat": 4,
 "nbformat_minor": 2
}
