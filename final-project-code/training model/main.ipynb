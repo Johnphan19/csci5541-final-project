{
 "cells": [
  {
   "cell_type": "code",
   "execution_count": null,
   "metadata": {},
   "outputs": [],
   "source": [
    "!pip install datasets evaluate -q"
   ]
  },
  {
   "cell_type": "code",
   "execution_count": null,
   "metadata": {},
   "outputs": [
    {
     "name": "stderr",
     "output_type": "stream",
     "text": [
      "Neither PyTorch nor TensorFlow >= 2.0 have been found.Models won't be available and only tokenizers, configurationand file/data utilities can be used.\n"
     ]
    },
    {
     "ename": "ImportError",
     "evalue": "cannot import name 'AutoModelForCausalLM' from 'transformers' (c:\\Users\\wchas\\anaconda3\\Lib\\site-packages\\transformers\\__init__.py)",
     "output_type": "error",
     "traceback": [
      "\u001b[1;31m---------------------------------------------------------------------------\u001b[0m",
      "\u001b[1;31mImportError\u001b[0m                               Traceback (most recent call last)",
      "Cell \u001b[1;32mIn[1], line 2\u001b[0m\n\u001b[0;32m      1\u001b[0m \u001b[38;5;66;03m# Load model directly\u001b[39;00m\n\u001b[1;32m----> 2\u001b[0m \u001b[38;5;28;01mfrom\u001b[39;00m \u001b[38;5;21;01mtransformers\u001b[39;00m \u001b[38;5;28;01mimport\u001b[39;00m AutoTokenizer, AutoModelForCausalLM\n\u001b[0;32m      4\u001b[0m tokenizer \u001b[38;5;241m=\u001b[39m AutoTokenizer\u001b[38;5;241m.\u001b[39mfrom_pretrained(\u001b[38;5;124m\"\u001b[39m\u001b[38;5;124mdeepseek-ai/DeepSeek-R1-Distill-Qwen-32B\u001b[39m\u001b[38;5;124m\"\u001b[39m)\n\u001b[0;32m      5\u001b[0m model \u001b[38;5;241m=\u001b[39m AutoModelForCausalLM\u001b[38;5;241m.\u001b[39mfrom_pretrained(\u001b[38;5;124m\"\u001b[39m\u001b[38;5;124mdeepseek-ai/DeepSeek-R1-Distill-Qwen-32B\u001b[39m\u001b[38;5;124m\"\u001b[39m)\n",
      "\u001b[1;31mImportError\u001b[0m: cannot import name 'AutoModelForCausalLM' from 'transformers' (c:\\Users\\wchas\\anaconda3\\Lib\\site-packages\\transformers\\__init__.py)"
     ]
    }
   ],
   "source": [
    "import torch\n",
    "from datasets import DatasetDict, load_dataset\n",
    "from transformers import pipeline\n",
    "import pandas as pd\n",
    "import numpy as np\n",
    "import time\n",
    "import math\n",
    "import tqdm\n",
    "import evaluate\n",
    "import wandb\n",
    "# Load model directly\n",
    "from transformers import AutoTokenizer, AutoModelForCausalLM, Trainer\n",
    "\n",
    "tokenizer = AutoTokenizer.from_pretrained(\"deepseek-ai/DeepSeek-R1-Distill-Qwen-32B\")\n",
    "model = AutoModelForCausalLM.from_pretrained(\"deepseek-ai/DeepSeek-R1-Distill-Qwen-32B\")"
   ]
  },
  {
   "cell_type": "code",
   "execution_count": null,
   "metadata": {},
   "outputs": [],
   "source": [
    "device = torch.device(\"cuda\" if torch.cuda.is_available() else \"cpu\")\n",
    "print(device)"
   ]
  },
  {
   "cell_type": "markdown",
   "metadata": {},
   "source": [
    "Dataset"
   ]
  },
  {
   "cell_type": "code",
   "execution_count": null,
   "metadata": {},
   "outputs": [],
   "source": [
    "dataset = load_dataset(\"dataset(CHANGE)\")"
   ]
  },
  {
   "cell_type": "markdown",
   "metadata": {},
   "source": [
    "wandb"
   ]
  },
  {
   "cell_type": "code",
   "execution_count": null,
   "metadata": {},
   "outputs": [],
   "source": [
    "import wandb\n",
    "wandb.login()\n",
    "run = wandb.init(\n",
    "    # Set the project where this run will be logged\n",
    "    project=\"NLP_Final_Project\",\n",
    "    # Track hyperparameters and run metadata\n",
    "    config={\n",
    "        \"learning_rate\": 2e-5,\n",
    "        \"epochs\": 3,\n",
    "        \"batch_size\": 32,\n",
    "        \"architecture\": \"distilbert-base-uncased\",\n",
    "        \"dataset\": \"hate_speech_offensive\",\n",
    "        \"weight_decay\": 0.01,\n",
    "        \"optimizer\": \"Adam\"\n",
    "    },\n",
    ")"
   ]
  },
  {
   "cell_type": "markdown",
   "metadata": {},
   "source": [
    "Base Trainer\n"
   ]
  },
  {
   "cell_type": "code",
   "execution_count": null,
   "metadata": {},
   "outputs": [],
   "source": [
    "class CustomTrainer(Trainer):\n",
    "    def _inner_training_loop(\n",
    "        self,\n",
    "        batch_size=None,\n",
    "        args=None,\n",
    "        resume_from_checkpoint=None,\n",
    "        trial=None,\n",
    "        ignore_keys_for_eval=None\n",
    "    ):\n",
    "        number_of_epochs = args.num_train_epochs\n",
    "        start = time.time()\n",
    "\n",
    "        device = torch.device(\"cuda\" if torch.cuda.is_available() else \"cpu\")\n",
    "        # Define loss function\n",
    "        criterion = torch.nn.CrossEntropyLoss().to(device)\n",
    "\n",
    "        # Setup optimizer and scheduler\n",
    "        self.optimizer = torch.optim.Adam(self.model.parameters(), lr=args.learning_rate)\n",
    "        self.scheduler = torch.optim.lr_scheduler.StepLR(self.optimizer, step_size=1, gamma=0.9)\n",
    "\n",
    "        # Get dataloaders from the Trainer\n",
    "        train_dataloader = self.get_train_dataloader()\n",
    "        eval_dataloader = self.get_eval_dataloader()\n",
    "\n",
    "        for epoch in range(number_of_epochs):\n",
    "            train_loss_per_epoch = 0.0\n",
    "            train_correct = 0\n",
    "            total_train_samples = 0\n",
    "\n",
    "            # Set model to training mode\n",
    "            self.model.train()\n",
    "            with tqdm.tqdm(train_dataloader, unit=\"batch\") as training_epoch:\n",
    "                training_epoch.set_description(f\"Training Epoch {epoch}\")\n",
    "                for step, batch in enumerate(training_epoch):\n",
    "                    # --- Prepare inputs for the model ---\n",
    "                    # Create a new dictionary with only model inputs.\n",
    "                    model_inputs = {}\n",
    "                    if \"input_ids\" in batch:\n",
    "                        model_inputs[\"input_ids\"] = batch[\"input_ids\"].to(device)\n",
    "                    if \"attention_mask\" in batch:\n",
    "                        model_inputs[\"attention_mask\"] = batch[\"attention_mask\"].to(device)\n",
    "                    if \"token_type_ids\" in batch:\n",
    "                        model_inputs[\"token_type_ids\"] = batch[\"token_type_ids\"].to(device)\n",
    "\n",
    "                    # Extract the labels from the batch.\n",
    "                    # Our dataset uses the key \"class\" for labels.\n",
    "                    #print(batch)\n",
    "                    if \"class\" in batch:\n",
    "                        labels = batch[\"class\"].to(device)\n",
    "                    elif \"labels\" in batch:\n",
    "                        labels = batch[\"labels\"].to(device)\n",
    "                    else:\n",
    "                        raise ValueError(\"No label column ('class' or 'labels') found in batch.\")\n",
    "\n",
    "                    # --- Forward pass ---\n",
    "                    self.optimizer.zero_grad()\n",
    "                    outputs = self.model(**model_inputs)\n",
    "                    logits = outputs.logits\n",
    "\n",
    "                    # Compute loss\n",
    "                    loss = criterion(logits, labels)\n",
    "                    train_loss_per_epoch += loss.item()\n",
    "\n",
    "                    # --- Backward pass & optimizer step ---\n",
    "                    loss.backward()\n",
    "                    self.optimizer.step()\n",
    "\n",
    "                    # --- Compute training accuracy ---\n",
    "                    preds = logits.argmax(dim=1)\n",
    "                    train_correct += (preds == labels).sum().item()\n",
    "                    total_train_samples += labels.size(0)\n",
    "\n",
    "            # Adjust the learning rate\n",
    "            self.scheduler.step()\n",
    "            train_loss_per_epoch /= len(train_dataloader)\n",
    "            train_acc_per_epoch = train_correct / total_train_samples\n",
    "\n",
    "            # --- Evaluation loop ---\n",
    "            eval_loss_per_epoch = 0.0\n",
    "            eval_correct = 0\n",
    "            total_eval_samples = 0\n",
    "\n",
    "            self.model.eval()\n",
    "            with torch.no_grad():\n",
    "                with tqdm.tqdm(eval_dataloader, unit=\"batch\") as eval_epoch:\n",
    "                    eval_epoch.set_description(f\"Evaluation Epoch {epoch}\")\n",
    "                    for batch in eval_epoch:\n",
    "                        # Prepare evaluation inputs (same as above)\n",
    "                        model_inputs = {}\n",
    "                        if \"input_ids\" in batch:\n",
    "                            model_inputs[\"input_ids\"] = batch[\"input_ids\"].to(device)\n",
    "                        if \"attention_mask\" in batch:\n",
    "                            model_inputs[\"attention_mask\"] = batch[\"attention_mask\"].to(device)\n",
    "                        if \"token_type_ids\" in batch:\n",
    "                            model_inputs[\"token_type_ids\"] = batch[\"token_type_ids\"].to(device)\n",
    "\n",
    "                        if \"class\" in batch:\n",
    "                            labels = batch[\"class\"].to(device)\n",
    "                        elif \"labels\" in batch:\n",
    "                            labels = batch[\"labels\"].to(device)\n",
    "                        else:\n",
    "                            raise ValueError(\"No label column ('class' or 'labels') found in batch.\")\n",
    "\n",
    "                        outputs = self.model(**model_inputs)\n",
    "                        logits = outputs.logits\n",
    "                        loss = criterion(logits, labels)\n",
    "                        eval_loss_per_epoch += loss.item()\n",
    "\n",
    "                        preds = logits.argmax(dim=1)\n",
    "                        eval_correct += (preds == labels).sum().item()\n",
    "                        total_eval_samples += labels.size(0)\n",
    "\n",
    "            eval_loss_per_epoch /= len(eval_dataloader)\n",
    "            eval_acc_per_epoch = eval_correct / total_eval_samples\n",
    "\n",
    "            print(f\"\\tTrain Loss: {train_loss_per_epoch:.3f} | Train Acc: {train_acc_per_epoch * 100:.2f}%\")\n",
    "            print(f\"\\tEval Loss: {eval_loss_per_epoch:.3f} | Eval Acc: {eval_acc_per_epoch * 100:.2f}%\")\n",
    "            wandb.log({\"Accuracy\": (train_acc_per_epoch * 100), \"Train Loss\": train_loss_per_epoch, \"Loss\":eval_loss_per_epoch,\"Evaluation Accuracy\":(eval_acc_per_epoch*100)})\n",
    "\n",
    "        total_time = (time.time() - start) / 60\n",
    "        print(f\"Total Training Time: {total_time:.3f} minutes\")\n"
   ]
  },
  {
   "cell_type": "code",
   "execution_count": null,
   "metadata": {},
   "outputs": [],
   "source": [
    "training_args = TrainingArguments(\n",
    "    output_dir='NLP_HW2_Model',\n",
    "    learning_rate=2e-5,\n",
    "    per_device_train_batch_size=32,\n",
    "    per_device_eval_batch_size=32,\n",
    "    num_train_epochs=3,\n",
    "    weight_decay=0.01,\n",
    "    evaluation_strategy='epoch',\n",
    "    save_strategy='epoch',\n",
    "    load_best_model_at_end=True,\n",
    ")"
   ]
  },
  {
   "cell_type": "code",
   "execution_count": null,
   "metadata": {},
   "outputs": [],
   "source": [
    "trainer = CustomTrainer(\n",
    "    model=model,\n",
    "    args=training_args,\n",
    "    # train_dataset=tokenized_hate_data['train'],\n",
    "    # eval_dataset=tokenized_hate_data['test'],\n",
    "    tokenizer=bert_cased_tokenizer,\n",
    "    data_collator=data_collator,\n",
    "    compute_metrics=compute_metrics,\n",
    ")\n"
   ]
  }
 ],
 "metadata": {
  "kernelspec": {
   "display_name": "base",
   "language": "python",
   "name": "python3"
  },
  "language_info": {
   "codemirror_mode": {
    "name": "ipython",
    "version": 3
   },
   "file_extension": ".py",
   "mimetype": "text/x-python",
   "name": "python",
   "nbconvert_exporter": "python",
   "pygments_lexer": "ipython3",
   "version": "3.11.4"
  }
 },
 "nbformat": 4,
 "nbformat_minor": 2
}
